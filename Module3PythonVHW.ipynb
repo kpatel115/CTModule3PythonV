{
 "cells": [
  {
   "cell_type": "code",
   "execution_count": 12,
   "id": "cd1c1110",
   "metadata": {},
   "outputs": [
    {
     "name": "stdout",
     "output_type": "stream",
     "text": [
      "['1', '124352', '2345', '1345346', '345', '632', '2', '4', '532', '4', '324', '5', '34']\n",
      "\n",
      "\n",
      "['10909090', '1', '2']\n"
     ]
    }
   ],
   "source": [
    "# In-class Exercise 1\n",
    "import re\n",
    "class_ex1 = re.compile('[0-9]{1,9}')\n",
    "new_string = class_ex1.findall('1 its looking nice out today right Mr. 124352 2345  1345346 345 632kjlkjk2hj4h532jh4 k324jh5kj34 ?')\n",
    "\n",
    "print(new_string)\n",
    "print('\\n')\n",
    "my_string = 'This string as 10909090 numbers, but it is only 1 string. I hope you solve this 2day.'\n",
    "\n",
    "#output: ['1090909090', '1', '2']\n",
    "inclass_ex1 = re.compile('[0-9]{1,9}')\n",
    "new_string1 = inclass_ex1.findall(my_string)\n",
    "print(new_string1)"
   ]
  },
  {
   "cell_type": "code",
   "execution_count": 13,
   "id": "50ddea9e",
   "metadata": {},
   "outputs": [
    {
     "name": "stdout",
     "output_type": "stream",
     "text": [
      "[]\n",
      "['pocohontas1776@gmail.com']\n",
      "[]\n",
      "['yourfavoriteband@g6.org']\n",
      "[]\n"
     ]
    }
   ],
   "source": [
    "# In-class Exercise 2\n",
    "\n",
    "import re\n",
    "my_emails = [\"jordanw@codingtemple.orgcom\", \"pocohontas1776@gmail.com\", \"helloworld@aol..com\",\n",
    "             \"yourfavoriteband@g6.org\", \"@codingtemple.com\"]\n",
    "\n",
    "# You can also use the $ at the end of your compile expression -- this stops the search\n",
    "def emailAddress(address):\n",
    "    pattern = re.compile('[\\w]+[\\d]?@+[\\w]*[\\d]?.com|.org+$')\n",
    "    pattern1 = re.compile(r\"^[\\w\\.\\+\\-]+\\@[\\w]+\\.[a-z]{2,3}$\")\n",
    "    for email in address:\n",
    "        print(pattern1.findall(email))\n",
    "        \n",
    "emailAddress(my_emails)\n",
    "#.com OR .org => com|org\n",
    "\n",
    "#Expected output:\n",
    "#None\n",
    "#pocohontas1776@gmail.com\n",
    "#None\n",
    "#yourfavoriteband@g6.org\n",
    "#None\n",
    "\n",
    "\n"
   ]
  },
  {
   "cell_type": "code",
   "execution_count": 41,
   "id": "27e09f10",
   "metadata": {},
   "outputs": [
    {
     "name": "stdout",
     "output_type": "stream",
     "text": [
      "Hawkins, Derek / \t@derekhawkins\n",
      "Osterberg, Sven / \t@sverik\n",
      "Butz, Ryan / \t@ryanbutz\n",
      "Exampleson, Example / \t@example\n",
      "Pael, Ripal / \t@ripalp\n",
      "Vader, Darth / \t@darthvader\n"
     ]
    }
   ],
   "source": [
    "#In-class Exercise 3\n",
    "import re\n",
    "with open('names.txt') as f:\n",
    "        data = f.read()\n",
    "\n",
    "name = re.compile(r'[B,E,H,O,P,S,V][\\w]+,+[\\s]{1}[\\w]+')\n",
    "twitterHandle = re.compile(r'[\\s]@+[\\w]+')\n",
    "\n",
    "names = name.findall(data)\n",
    "super_names = []\n",
    "super_names.append(names[0])\n",
    "super_names.append(names[1])\n",
    "super_names.append(names[3])\n",
    "super_names.append(names[5])\n",
    "super_names.append(names[7])\n",
    "super_names.append(names[8])\n",
    "\n",
    "# for sup_name in super_names:\n",
    "#     print(sup_name)\n",
    "\n",
    "handles = twitterHandle.findall(data)\n",
    "\n",
    "\n",
    "super_handles = []\n",
    "for handle in handles:\n",
    "    super_handles.append(handle)\n",
    "\n",
    "for fullName, twitterHandle in zip(super_names, super_handles):\n",
    "    print(f\"{fullName} / {twitterHandle}\")\n",
    "\n",
    "# def twitterNames():\n",
    "#     with open('names.txt') as f:\n",
    "#         data = f.read()\n",
    "        \n",
    "#     name = re.compile(r'[B,E,H,P,S,V][\\w]+,+[\\s]{1}[\\w]+')\n",
    "#     twitterHandle = re.compile(r'[\\s]@+[\\w]+')\n",
    "\n",
    "#     names = name.findall(data)\n",
    "#     handles = twitterHandle.findall(data)\n",
    "#     fullNames = {}\n",
    "#     for name in names:\n",
    "        \n",
    "# #         fullNames.append(name)\n",
    "#     for handle in handles:\n",
    "#         print(handle)\n",
    "       \n",
    "# print('Full Name / Twitter')\n",
    "# print()\n",
    "# twitterNames()\n",
    "\n",
    "    \n",
    "    "
   ]
  },
  {
   "cell_type": "code",
   "execution_count": 2,
   "id": "3355d367",
   "metadata": {},
   "outputs": [
    {
     "name": "stdout",
     "output_type": "stream",
     "text": [
      "Abraham Lincoln\n",
      "Andrew P Garfield\n",
      "Connor Milliken\n",
      "Jordan Alexander Williams\n"
     ]
    }
   ],
   "source": [
    "# Regex Project\n",
    "import re\n",
    "\n",
    "with open('regex_test.txt') as f:\n",
    "    test_data = f.read()\n",
    "#     print(test_data)\n",
    "    \n",
    "valid_name = re.compile(r'[A-Z][a-z]+[ ][A-Z]?[ ]?[A-Z][a-z]+[ ]?[A-Za-z]+')\n",
    "valid_name_output = valid_name.findall(test_data)\n",
    "\n",
    "for name in valid_name_output:\n",
    "    print(name)\n",
    "# not able to get names in correct order "
   ]
  }
 ],
 "metadata": {
  "kernelspec": {
   "display_name": "Python 3 (ipykernel)",
   "language": "python",
   "name": "python3"
  },
  "language_info": {
   "codemirror_mode": {
    "name": "ipython",
    "version": 3
   },
   "file_extension": ".py",
   "mimetype": "text/x-python",
   "name": "python",
   "nbconvert_exporter": "python",
   "pygments_lexer": "ipython3",
   "version": "3.9.13"
  }
 },
 "nbformat": 4,
 "nbformat_minor": 5
}
